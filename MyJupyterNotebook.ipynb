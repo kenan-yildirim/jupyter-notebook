{
    "cells": [
        {
            "cell_type": "markdown",
            "metadata": {
                "collapsed": true
            },
            "source": "# My Jupyter Notebook on IBM Data Science Experience #"
        },
        {
            "cell_type": "markdown",
            "metadata": {},
            "source": "**Kenan**  \nData Scientist"
        },
        {
            "cell_type": "markdown",
            "metadata": {},
            "source": "*I am interested in data science because I like to play with data and extract meaningful outcomes.*"
        },
        {
            "cell_type": "markdown",
            "metadata": {},
            "source": "### Age Calculation ###"
        },
        {
            "cell_type": "code",
            "execution_count": 2,
            "metadata": {},
            "outputs": [
                {
                    "name": "stdout",
                    "output_type": "stream",
                    "text": "19\n"
                }
            ],
            "source": "current_year = 2019\nbirth_year = 2000\nage = current_year - birth_year\nprint (age)"
        },
        {
            "cell_type": "markdown",
            "metadata": {},
            "source": "<hr>"
        },
        {
            "cell_type": "markdown",
            "metadata": {},
            "source": "<ol>\n<li>Line One</li>\n<li>Line Two</li>\n</ol>"
        },
        {
            "cell_type": "markdown",
            "metadata": {},
            "source": "<a href=\"https://www.google.com/\">Google Link</a>"
        },
        {
            "cell_type": "markdown",
            "metadata": {},
            "source": "~strikethrough this~"
        },
        {
            "cell_type": "code",
            "execution_count": null,
            "metadata": {},
            "outputs": [],
            "source": ""
        }
    ],
    "metadata": {
        "kernelspec": {
            "display_name": "Python 3.6",
            "language": "python",
            "name": "python3"
        },
        "language_info": {
            "codemirror_mode": {
                "name": "ipython",
                "version": 3
            },
            "file_extension": ".py",
            "mimetype": "text/x-python",
            "name": "python",
            "nbconvert_exporter": "python",
            "pygments_lexer": "ipython3",
            "version": "3.6.8"
        }
    },
    "nbformat": 4,
    "nbformat_minor": 1
}